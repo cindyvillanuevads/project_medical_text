{
 "cells": [
  {
   "cell_type": "code",
   "execution_count": 1,
   "metadata": {},
   "outputs": [],
   "source": [
    "\n",
    "from requests import get\n",
    "from bs4 import BeautifulSoup\n",
    "import pandas as pd\n",
    "import seaborn as sns\n",
    "import matplotlib as mpl\n",
    "import matplotlib.pyplot as plt\n",
    "from wordcloud import WordCloud\n",
    "import numpy as np\n",
    "\n",
    "import prepare as pre"
   ]
  },
  {
   "cell_type": "markdown",
   "metadata": {},
   "source": [
    "# GOALS\n",
    "- classify the medical specialties based on the transcription text?"
   ]
  },
  {
   "cell_type": "markdown",
   "metadata": {},
   "source": [
    "# Summary:\n",
    "-\n",
    "-\n"
   ]
  },
  {
   "cell_type": "markdown",
   "metadata": {},
   "source": [
    "# Plan -> Acquire -> Prepare -> Explore -> Model -> Deliver"
   ]
  },
  {
   "cell_type": "markdown",
   "metadata": {},
   "source": [
    "_________________"
   ]
  },
  {
   "cell_type": "markdown",
   "metadata": {},
   "source": [
    "# Plan\n",
    "I download a cvs file from this link \n"
   ]
  },
  {
   "cell_type": "markdown",
   "metadata": {},
   "source": [
    "____________"
   ]
  },
  {
   "cell_type": "markdown",
   "metadata": {},
   "source": [
    "# Acquire"
   ]
  },
  {
   "cell_type": "code",
   "execution_count": 2,
   "metadata": {},
   "outputs": [],
   "source": [
    "# read csv file\n",
    "df = pd.read_csv('mtsamples.csv',  index_col=[0])"
   ]
  },
  {
   "cell_type": "code",
   "execution_count": 3,
   "metadata": {
    "scrolled": true
   },
   "outputs": [
    {
     "data": {
      "text/html": [
       "<div>\n",
       "<style scoped>\n",
       "    .dataframe tbody tr th:only-of-type {\n",
       "        vertical-align: middle;\n",
       "    }\n",
       "\n",
       "    .dataframe tbody tr th {\n",
       "        vertical-align: top;\n",
       "    }\n",
       "\n",
       "    .dataframe thead th {\n",
       "        text-align: right;\n",
       "    }\n",
       "</style>\n",
       "<table border=\"1\" class=\"dataframe\">\n",
       "  <thead>\n",
       "    <tr style=\"text-align: right;\">\n",
       "      <th></th>\n",
       "      <th>description</th>\n",
       "      <th>medical_specialty</th>\n",
       "      <th>sample_name</th>\n",
       "      <th>transcription</th>\n",
       "      <th>keywords</th>\n",
       "    </tr>\n",
       "  </thead>\n",
       "  <tbody>\n",
       "    <tr>\n",
       "      <th>0</th>\n",
       "      <td>A 23-year-old white female presents with comp...</td>\n",
       "      <td>Allergy / Immunology</td>\n",
       "      <td>Allergic Rhinitis</td>\n",
       "      <td>SUBJECTIVE:,  This 23-year-old white female pr...</td>\n",
       "      <td>allergy / immunology, allergic rhinitis, aller...</td>\n",
       "    </tr>\n",
       "    <tr>\n",
       "      <th>1</th>\n",
       "      <td>Consult for laparoscopic gastric bypass.</td>\n",
       "      <td>Bariatrics</td>\n",
       "      <td>Laparoscopic Gastric Bypass Consult - 2</td>\n",
       "      <td>PAST MEDICAL HISTORY:, He has difficulty climb...</td>\n",
       "      <td>bariatrics, laparoscopic gastric bypass, weigh...</td>\n",
       "    </tr>\n",
       "    <tr>\n",
       "      <th>2</th>\n",
       "      <td>Consult for laparoscopic gastric bypass.</td>\n",
       "      <td>Bariatrics</td>\n",
       "      <td>Laparoscopic Gastric Bypass Consult - 1</td>\n",
       "      <td>HISTORY OF PRESENT ILLNESS: , I have seen ABC ...</td>\n",
       "      <td>bariatrics, laparoscopic gastric bypass, heart...</td>\n",
       "    </tr>\n",
       "    <tr>\n",
       "      <th>3</th>\n",
       "      <td>2-D M-Mode. Doppler.</td>\n",
       "      <td>Cardiovascular / Pulmonary</td>\n",
       "      <td>2-D Echocardiogram - 1</td>\n",
       "      <td>2-D M-MODE: , ,1.  Left atrial enlargement wit...</td>\n",
       "      <td>cardiovascular / pulmonary, 2-d m-mode, dopple...</td>\n",
       "    </tr>\n",
       "    <tr>\n",
       "      <th>4</th>\n",
       "      <td>2-D Echocardiogram</td>\n",
       "      <td>Cardiovascular / Pulmonary</td>\n",
       "      <td>2-D Echocardiogram - 2</td>\n",
       "      <td>1.  The left ventricular cavity size and wall ...</td>\n",
       "      <td>cardiovascular / pulmonary, 2-d, doppler, echo...</td>\n",
       "    </tr>\n",
       "  </tbody>\n",
       "</table>\n",
       "</div>"
      ],
      "text/plain": [
       "                                         description  \\\n",
       "0   A 23-year-old white female presents with comp...   \n",
       "1           Consult for laparoscopic gastric bypass.   \n",
       "2           Consult for laparoscopic gastric bypass.   \n",
       "3                             2-D M-Mode. Doppler.     \n",
       "4                                 2-D Echocardiogram   \n",
       "\n",
       "             medical_specialty                                sample_name  \\\n",
       "0         Allergy / Immunology                         Allergic Rhinitis    \n",
       "1                   Bariatrics   Laparoscopic Gastric Bypass Consult - 2    \n",
       "2                   Bariatrics   Laparoscopic Gastric Bypass Consult - 1    \n",
       "3   Cardiovascular / Pulmonary                    2-D Echocardiogram - 1    \n",
       "4   Cardiovascular / Pulmonary                    2-D Echocardiogram - 2    \n",
       "\n",
       "                                       transcription  \\\n",
       "0  SUBJECTIVE:,  This 23-year-old white female pr...   \n",
       "1  PAST MEDICAL HISTORY:, He has difficulty climb...   \n",
       "2  HISTORY OF PRESENT ILLNESS: , I have seen ABC ...   \n",
       "3  2-D M-MODE: , ,1.  Left atrial enlargement wit...   \n",
       "4  1.  The left ventricular cavity size and wall ...   \n",
       "\n",
       "                                            keywords  \n",
       "0  allergy / immunology, allergic rhinitis, aller...  \n",
       "1  bariatrics, laparoscopic gastric bypass, weigh...  \n",
       "2  bariatrics, laparoscopic gastric bypass, heart...  \n",
       "3  cardiovascular / pulmonary, 2-d m-mode, dopple...  \n",
       "4  cardiovascular / pulmonary, 2-d, doppler, echo...  "
      ]
     },
     "execution_count": 3,
     "metadata": {},
     "output_type": "execute_result"
    }
   ],
   "source": [
    "#check the first 5 observations\n",
    "df.head()"
   ]
  },
  {
   "cell_type": "code",
   "execution_count": 4,
   "metadata": {},
   "outputs": [
    {
     "name": "stdout",
     "output_type": "stream",
     "text": [
      "<class 'pandas.core.frame.DataFrame'>\n",
      "Int64Index: 4999 entries, 0 to 4998\n",
      "Data columns (total 5 columns):\n",
      " #   Column             Non-Null Count  Dtype \n",
      "---  ------             --------------  ----- \n",
      " 0   description        4999 non-null   object\n",
      " 1   medical_specialty  4999 non-null   object\n",
      " 2   sample_name        4999 non-null   object\n",
      " 3   transcription      4966 non-null   object\n",
      " 4   keywords           3931 non-null   object\n",
      "dtypes: object(5)\n",
      "memory usage: 234.3+ KB\n"
     ]
    }
   ],
   "source": [
    "#check info of each column\n",
    "df.info()"
   ]
  },
  {
   "cell_type": "code",
   "execution_count": 5,
   "metadata": {},
   "outputs": [],
   "source": [
    "#let's check description and transcription"
   ]
  },
  {
   "cell_type": "code",
   "execution_count": 6,
   "metadata": {},
   "outputs": [
    {
     "data": {
      "text/plain": [
       "' A 23-year-old white female presents with complaint of allergies.'"
      ]
     },
     "execution_count": 6,
     "metadata": {},
     "output_type": "execute_result"
    }
   ],
   "source": [
    "df.description[0]"
   ]
  },
  {
   "cell_type": "code",
   "execution_count": 7,
   "metadata": {},
   "outputs": [
    {
     "data": {
      "text/plain": [
       "'SUBJECTIVE:,  This 23-year-old white female presents with complaint of allergies.  She used to have allergies when she lived in Seattle but she thinks they are worse here.  In the past, she has tried Claritin, and Zyrtec.  Both worked for short time but then seemed to lose effectiveness.  She has used Allegra also.  She used that last summer and she began using it again two weeks ago.  It does not appear to be working very well.  She has used over-the-counter sprays but no prescription nasal sprays.  She does have asthma but doest not require daily medication for this and does not think it is flaring up.,MEDICATIONS: , Her only medication currently is Ortho Tri-Cyclen and the Allegra.,ALLERGIES: , She has no known medicine allergies.,OBJECTIVE:,Vitals:  Weight was 130 pounds and blood pressure 124/78.,HEENT:  Her throat was mildly erythematous without exudate.  Nasal mucosa was erythematous and swollen.  Only clear drainage was seen.  TMs were clear.,Neck:  Supple without adenopathy.,Lungs:  Clear.,ASSESSMENT:,  Allergic rhinitis.,PLAN:,1.  She will try Zyrtec instead of Allegra again.  Another option will be to use loratadine.  She does not think she has prescription coverage so that might be cheaper.,2.  Samples of Nasonex two sprays in each nostril given for three weeks.  A prescription was written as well.'"
      ]
     },
     "execution_count": 7,
     "metadata": {},
     "output_type": "execute_result"
    }
   ],
   "source": [
    "df.transcription[0]"
   ]
  },
  {
   "cell_type": "code",
   "execution_count": 8,
   "metadata": {},
   "outputs": [
    {
     "data": {
      "text/plain": [
       "'PAST MEDICAL HISTORY:, He has difficulty climbing stairs, difficulty with airline seats, tying shoes, used to public seating, and lifting objects off the floor.  He exercises three times a week at home and does cardio.  He has difficulty walking two blocks or five flights of stairs.  Difficulty with snoring.  He has muscle and joint pains including knee pain, back pain, foot and ankle pain, and swelling.  He has gastroesophageal reflux disease.,PAST SURGICAL HISTORY:, Includes reconstructive surgery on his right hand 13 years ago.  ,SOCIAL HISTORY:, He is currently single.  He has about ten drinks a year.  He had smoked significantly up until several months ago.  He now smokes less than three cigarettes a day.,FAMILY HISTORY:, Heart disease in both grandfathers, grandmother with stroke, and a grandmother with diabetes.  Denies obesity and hypertension in other family members.,CURRENT MEDICATIONS:, None.,ALLERGIES:,  He is allergic to Penicillin.,MISCELLANEOUS/EATING HISTORY:, He has been going to support groups for seven months with Lynn Holmberg in Greenwich and he is from Eastchester, New York and he feels that we are the appropriate program.  He had a poor experience with the Greenwich program.  Eating history, he is not an emotional eater.  Does not like sweets.  He likes big portions and carbohydrates.  He likes chicken and not steak.  He currently weighs 312 pounds.  Ideal body weight would be 170 pounds.  He is 142 pounds overweight.  If ,he lost 60% of his excess body weight that would be 84 pounds and he should weigh about 228.,REVIEW OF SYSTEMS: ,Negative for head, neck, heart, lungs, GI, GU, orthopedic, and skin.  Specifically denies chest pain, heart attack, coronary artery disease, congestive heart failure, arrhythmia, atrial fibrillation, pacemaker, high cholesterol, pulmonary embolism, high blood pressure, CVA, venous insufficiency, thrombophlebitis, asthma, shortness of breath, COPD, emphysema, sleep apnea, diabetes, leg and foot swelling, osteoarthritis, rheumatoid arthritis, hiatal hernia, peptic ulcer disease, gallstones, infected gallbladder, pancreatitis, fatty liver, hepatitis, hemorrhoids, rectal bleeding, polyps, incontinence of stool, urinary stress incontinence, or cancer.  Denies cellulitis, pseudotumor cerebri, meningitis, or encephalitis.,PHYSICAL EXAMINATION:, He is alert and oriented x 3.  Cranial nerves II-XII are intact.  Afebrile.  Vital Signs are stable.'"
      ]
     },
     "execution_count": 8,
     "metadata": {},
     "output_type": "execute_result"
    }
   ],
   "source": [
    "df.transcription[1]"
   ]
  },
  {
   "cell_type": "code",
   "execution_count": 9,
   "metadata": {},
   "outputs": [
    {
     "data": {
      "text/plain": [
       "' Consult for laparoscopic gastric bypass.'"
      ]
     },
     "execution_count": 9,
     "metadata": {},
     "output_type": "execute_result"
    }
   ],
   "source": [
    "df.description[1]"
   ]
  },
  {
   "cell_type": "code",
   "execution_count": 10,
   "metadata": {},
   "outputs": [
    {
     "data": {
      "text/html": [
       "<div>\n",
       "<style scoped>\n",
       "    .dataframe tbody tr th:only-of-type {\n",
       "        vertical-align: middle;\n",
       "    }\n",
       "\n",
       "    .dataframe tbody tr th {\n",
       "        vertical-align: top;\n",
       "    }\n",
       "\n",
       "    .dataframe thead th {\n",
       "        text-align: right;\n",
       "    }\n",
       "</style>\n",
       "<table border=\"1\" class=\"dataframe\">\n",
       "  <thead>\n",
       "    <tr style=\"text-align: right;\">\n",
       "      <th></th>\n",
       "      <th>description</th>\n",
       "      <th>medical_specialty</th>\n",
       "      <th>sample_name</th>\n",
       "      <th>transcription</th>\n",
       "      <th>keywords</th>\n",
       "    </tr>\n",
       "  </thead>\n",
       "  <tbody>\n",
       "    <tr>\n",
       "      <th>0</th>\n",
       "      <td>A 23-year-old white female presents with comp...</td>\n",
       "      <td>Allergy / Immunology</td>\n",
       "      <td>Allergic Rhinitis</td>\n",
       "      <td>SUBJECTIVE:,  This 23-year-old white female pr...</td>\n",
       "      <td>allergy / immunology, allergic rhinitis, aller...</td>\n",
       "    </tr>\n",
       "    <tr>\n",
       "      <th>1</th>\n",
       "      <td>Consult for laparoscopic gastric bypass.</td>\n",
       "      <td>Bariatrics</td>\n",
       "      <td>Laparoscopic Gastric Bypass Consult - 2</td>\n",
       "      <td>PAST MEDICAL HISTORY:, He has difficulty climb...</td>\n",
       "      <td>bariatrics, laparoscopic gastric bypass, weigh...</td>\n",
       "    </tr>\n",
       "    <tr>\n",
       "      <th>2</th>\n",
       "      <td>Consult for laparoscopic gastric bypass.</td>\n",
       "      <td>Bariatrics</td>\n",
       "      <td>Laparoscopic Gastric Bypass Consult - 1</td>\n",
       "      <td>HISTORY OF PRESENT ILLNESS: , I have seen ABC ...</td>\n",
       "      <td>bariatrics, laparoscopic gastric bypass, heart...</td>\n",
       "    </tr>\n",
       "    <tr>\n",
       "      <th>3</th>\n",
       "      <td>2-D M-Mode. Doppler.</td>\n",
       "      <td>Cardiovascular / Pulmonary</td>\n",
       "      <td>2-D Echocardiogram - 1</td>\n",
       "      <td>2-D M-MODE: , ,1.  Left atrial enlargement wit...</td>\n",
       "      <td>cardiovascular / pulmonary, 2-d m-mode, dopple...</td>\n",
       "    </tr>\n",
       "    <tr>\n",
       "      <th>4</th>\n",
       "      <td>2-D Echocardiogram</td>\n",
       "      <td>Cardiovascular / Pulmonary</td>\n",
       "      <td>2-D Echocardiogram - 2</td>\n",
       "      <td>1.  The left ventricular cavity size and wall ...</td>\n",
       "      <td>cardiovascular / pulmonary, 2-d, doppler, echo...</td>\n",
       "    </tr>\n",
       "  </tbody>\n",
       "</table>\n",
       "</div>"
      ],
      "text/plain": [
       "                                         description  \\\n",
       "0   A 23-year-old white female presents with comp...   \n",
       "1           Consult for laparoscopic gastric bypass.   \n",
       "2           Consult for laparoscopic gastric bypass.   \n",
       "3                             2-D M-Mode. Doppler.     \n",
       "4                                 2-D Echocardiogram   \n",
       "\n",
       "             medical_specialty                                sample_name  \\\n",
       "0         Allergy / Immunology                         Allergic Rhinitis    \n",
       "1                   Bariatrics   Laparoscopic Gastric Bypass Consult - 2    \n",
       "2                   Bariatrics   Laparoscopic Gastric Bypass Consult - 1    \n",
       "3   Cardiovascular / Pulmonary                    2-D Echocardiogram - 1    \n",
       "4   Cardiovascular / Pulmonary                    2-D Echocardiogram - 2    \n",
       "\n",
       "                                       transcription  \\\n",
       "0  SUBJECTIVE:,  This 23-year-old white female pr...   \n",
       "1  PAST MEDICAL HISTORY:, He has difficulty climb...   \n",
       "2  HISTORY OF PRESENT ILLNESS: , I have seen ABC ...   \n",
       "3  2-D M-MODE: , ,1.  Left atrial enlargement wit...   \n",
       "4  1.  The left ventricular cavity size and wall ...   \n",
       "\n",
       "                                            keywords  \n",
       "0  allergy / immunology, allergic rhinitis, aller...  \n",
       "1  bariatrics, laparoscopic gastric bypass, weigh...  \n",
       "2  bariatrics, laparoscopic gastric bypass, heart...  \n",
       "3  cardiovascular / pulmonary, 2-d m-mode, dopple...  \n",
       "4  cardiovascular / pulmonary, 2-d, doppler, echo...  "
      ]
     },
     "execution_count": 10,
     "metadata": {},
     "output_type": "execute_result"
    }
   ],
   "source": [
    "df.head()"
   ]
  },
  {
   "cell_type": "markdown",
   "metadata": {},
   "source": [
    "**Note:**\n",
    "- `description` is the chief complain or reason for thr visit. \n",
    "- `transcription` is the medical record for this visit'\n",
    "- `medical_specialty` is the Medical specialty classification of transcription.\n",
    "- `sample_name` Transcription title\n",
    "- `keywords` Relevant keywords from transcription"
   ]
  },
  {
   "cell_type": "markdown",
   "metadata": {},
   "source": [
    "# PREPARE"
   ]
  },
  {
   "cell_type": "code",
   "execution_count": 11,
   "metadata": {},
   "outputs": [
    {
     "data": {
      "text/plain": [
       "0"
      ]
     },
     "execution_count": 11,
     "metadata": {},
     "output_type": "execute_result"
    }
   ],
   "source": [
    "df.duplicated().sum()"
   ]
  },
  {
   "cell_type": "markdown",
   "metadata": {},
   "source": [
    "## missing values"
   ]
  },
  {
   "cell_type": "code",
   "execution_count": 12,
   "metadata": {},
   "outputs": [
    {
     "name": "stdout",
     "output_type": "stream",
     "text": [
      "Your selected dataframe has 5 columns.\n",
      "There are 2 columns that have missing values.\n",
      "  \n",
      "** There are 0 duplicate rows that represents 0.0% of total Values**\n"
     ]
    },
    {
     "data": {
      "text/html": [
       "<div>\n",
       "<style scoped>\n",
       "    .dataframe tbody tr th:only-of-type {\n",
       "        vertical-align: middle;\n",
       "    }\n",
       "\n",
       "    .dataframe tbody tr th {\n",
       "        vertical-align: top;\n",
       "    }\n",
       "\n",
       "    .dataframe thead th {\n",
       "        text-align: right;\n",
       "    }\n",
       "</style>\n",
       "<table border=\"1\" class=\"dataframe\">\n",
       "  <thead>\n",
       "    <tr style=\"text-align: right;\">\n",
       "      <th></th>\n",
       "      <th>Missing Values</th>\n",
       "      <th>% of Total Values</th>\n",
       "    </tr>\n",
       "  </thead>\n",
       "  <tbody>\n",
       "    <tr>\n",
       "      <th>keywords</th>\n",
       "      <td>1068</td>\n",
       "      <td>21.4</td>\n",
       "    </tr>\n",
       "    <tr>\n",
       "      <th>transcription</th>\n",
       "      <td>33</td>\n",
       "      <td>0.7</td>\n",
       "    </tr>\n",
       "  </tbody>\n",
       "</table>\n",
       "</div>"
      ],
      "text/plain": [
       "               Missing Values  % of Total Values\n",
       "keywords                 1068               21.4\n",
       "transcription              33                0.7"
      ]
     },
     "execution_count": 12,
     "metadata": {},
     "output_type": "execute_result"
    }
   ],
   "source": [
    "# using a function to check the missing values\n",
    "pre.miss_dup_values(df)"
   ]
  },
  {
   "cell_type": "code",
   "execution_count": 13,
   "metadata": {
    "scrolled": false
   },
   "outputs": [
    {
     "data": {
      "text/html": [
       "<div>\n",
       "<style scoped>\n",
       "    .dataframe tbody tr th:only-of-type {\n",
       "        vertical-align: middle;\n",
       "    }\n",
       "\n",
       "    .dataframe tbody tr th {\n",
       "        vertical-align: top;\n",
       "    }\n",
       "\n",
       "    .dataframe thead th {\n",
       "        text-align: right;\n",
       "    }\n",
       "</style>\n",
       "<table border=\"1\" class=\"dataframe\">\n",
       "  <thead>\n",
       "    <tr style=\"text-align: right;\">\n",
       "      <th></th>\n",
       "      <th>description</th>\n",
       "      <th>medical_specialty</th>\n",
       "      <th>sample_name</th>\n",
       "      <th>transcription</th>\n",
       "      <th>keywords</th>\n",
       "    </tr>\n",
       "  </thead>\n",
       "  <tbody>\n",
       "    <tr>\n",
       "      <th>97</th>\n",
       "      <td>Inguinal orchiopexy procedure.</td>\n",
       "      <td>Urology</td>\n",
       "      <td>Inguinal orchiopexy</td>\n",
       "      <td>NaN</td>\n",
       "      <td>urology, inguinal orchiopexy, keith needles, a...</td>\n",
       "    </tr>\n",
       "    <tr>\n",
       "      <th>116</th>\n",
       "      <td>Inguinal hernia hydrocele repair.</td>\n",
       "      <td>Urology</td>\n",
       "      <td>Hydrocele Repair</td>\n",
       "      <td>NaN</td>\n",
       "      <td>urology, inguinal hernia, external oblique, he...</td>\n",
       "    </tr>\n",
       "    <tr>\n",
       "      <th>205</th>\n",
       "      <td>Vaginal Hysterectomy.  A weighted speculum wa...</td>\n",
       "      <td>Surgery</td>\n",
       "      <td>Vaginal Hysterectomy</td>\n",
       "      <td>NaN</td>\n",
       "      <td>surgery, omentum, massachusetts, vaginal hyste...</td>\n",
       "    </tr>\n",
       "    <tr>\n",
       "      <th>263</th>\n",
       "      <td>Total Abdominal Hysterectomy (TAH).  An incis...</td>\n",
       "      <td>Surgery</td>\n",
       "      <td>Total Abdominal Hysterectomy</td>\n",
       "      <td>NaN</td>\n",
       "      <td>surgery, fundus, double-toothed tenaculum, mus...</td>\n",
       "    </tr>\n",
       "    <tr>\n",
       "      <th>459</th>\n",
       "      <td>Parotidectomy procedure</td>\n",
       "      <td>Surgery</td>\n",
       "      <td>Parotidectomy</td>\n",
       "      <td>NaN</td>\n",
       "      <td>surgery, parotidectomy, mixter clamp, auditory...</td>\n",
       "    </tr>\n",
       "    <tr>\n",
       "      <th>622</th>\n",
       "      <td>Laparoscopy.  The cervix was grasped with a s...</td>\n",
       "      <td>Surgery</td>\n",
       "      <td>Laparoscopy - 1</td>\n",
       "      <td>NaN</td>\n",
       "      <td>surgery, uterus, cervix, vaginal, single tooth...</td>\n",
       "    </tr>\n",
       "    <tr>\n",
       "      <th>628</th>\n",
       "      <td>Laparoscopy.  An incision was made in the umb...</td>\n",
       "      <td>Surgery</td>\n",
       "      <td>Laparoscopy - 2</td>\n",
       "      <td>NaN</td>\n",
       "      <td>surgery, umbilicus, trocar, falope, laparoscop...</td>\n",
       "    </tr>\n",
       "    <tr>\n",
       "      <th>680</th>\n",
       "      <td>Inguinal orchiopexy procedure.</td>\n",
       "      <td>Surgery</td>\n",
       "      <td>Inguinal orchiopexy</td>\n",
       "      <td>NaN</td>\n",
       "      <td>surgery, inguinal orchiopexy, keith needles, a...</td>\n",
       "    </tr>\n",
       "    <tr>\n",
       "      <th>729</th>\n",
       "      <td>Inguinal hernia hydrocele repair.</td>\n",
       "      <td>Surgery</td>\n",
       "      <td>Hydrocele Repair</td>\n",
       "      <td>NaN</td>\n",
       "      <td>surgery, inguinal hernia, external oblique, he...</td>\n",
       "    </tr>\n",
       "    <tr>\n",
       "      <th>871</th>\n",
       "      <td>Common description of EGD</td>\n",
       "      <td>Surgery</td>\n",
       "      <td>EGD Template - 4</td>\n",
       "      <td>NaN</td>\n",
       "      <td>surgery, lateral supine position, stomach, duo...</td>\n",
       "    </tr>\n",
       "    <tr>\n",
       "      <th>879</th>\n",
       "      <td>Common description of EGD.</td>\n",
       "      <td>Surgery</td>\n",
       "      <td>EGD Template - 1</td>\n",
       "      <td>NaN</td>\n",
       "      <td>surgery, duodenal mucosa, duodenal, esophageal...</td>\n",
       "    </tr>\n",
       "    <tr>\n",
       "      <th>983</th>\n",
       "      <td>Common description of colonoscopy</td>\n",
       "      <td>Surgery</td>\n",
       "      <td>Colonoscopy Template - 1</td>\n",
       "      <td>NaN</td>\n",
       "      <td>surgery, decubitus position, cecum, colonic mu...</td>\n",
       "    </tr>\n",
       "    <tr>\n",
       "      <th>984</th>\n",
       "      <td>Common description of colonoscopy</td>\n",
       "      <td>Surgery</td>\n",
       "      <td>Colonoscopy Template - 3</td>\n",
       "      <td>NaN</td>\n",
       "      <td>surgery, left lateral sims position, cecum, ma...</td>\n",
       "    </tr>\n",
       "    <tr>\n",
       "      <th>985</th>\n",
       "      <td>Common description of colonoscopy</td>\n",
       "      <td>Surgery</td>\n",
       "      <td>Colonoscopy Template - 5</td>\n",
       "      <td>NaN</td>\n",
       "      <td>surgery, cecum, colonoscope, digital rectal ex...</td>\n",
       "    </tr>\n",
       "    <tr>\n",
       "      <th>987</th>\n",
       "      <td>Common description of colonoscopy</td>\n",
       "      <td>Surgery</td>\n",
       "      <td>Colonoscopy Template - 2</td>\n",
       "      <td>NaN</td>\n",
       "      <td>surgery, cecum, retroflexion, colon, tumor, po...</td>\n",
       "    </tr>\n",
       "    <tr>\n",
       "      <th>1017</th>\n",
       "      <td>Collar Tubes technique</td>\n",
       "      <td>Surgery</td>\n",
       "      <td>Collar Tubes</td>\n",
       "      <td>NaN</td>\n",
       "      <td>surgery, ototopical drops, tympanic, membrane,...</td>\n",
       "    </tr>\n",
       "    <tr>\n",
       "      <th>1055</th>\n",
       "      <td>Cesarean Section.  An incision was made as no...</td>\n",
       "      <td>Surgery</td>\n",
       "      <td>Cesarean Section</td>\n",
       "      <td>NaN</td>\n",
       "      <td>surgery, peritoneum, cesarean section, abdomin...</td>\n",
       "    </tr>\n",
       "    <tr>\n",
       "      <th>2016</th>\n",
       "      <td>Greater trochanteric bursal injection.</td>\n",
       "      <td>Pain Management</td>\n",
       "      <td>Bursal Injection</td>\n",
       "      <td>NaN</td>\n",
       "      <td>pain management, greater trochanteric, depo-me...</td>\n",
       "    </tr>\n",
       "    <tr>\n",
       "      <th>2455</th>\n",
       "      <td>Quick note on tachypnea.</td>\n",
       "      <td>Office Notes</td>\n",
       "      <td>Tachypnea</td>\n",
       "      <td>NaN</td>\n",
       "      <td>office notes, chest, cpr, breath sounds, tachy...</td>\n",
       "    </tr>\n",
       "    <tr>\n",
       "      <th>2498</th>\n",
       "      <td>Vaginal Hysterectomy.  A weighted speculum wa...</td>\n",
       "      <td>Obstetrics / Gynecology</td>\n",
       "      <td>Vaginal Hysterectomy</td>\n",
       "      <td>NaN</td>\n",
       "      <td>obstetrics / gynecology, omentum, massachusett...</td>\n",
       "    </tr>\n",
       "    <tr>\n",
       "      <th>2529</th>\n",
       "      <td>Total Abdominal Hysterectomy (TAH).  An incis...</td>\n",
       "      <td>Obstetrics / Gynecology</td>\n",
       "      <td>Total Abdominal Hysterectomy</td>\n",
       "      <td>NaN</td>\n",
       "      <td>obstetrics / gynecology, fundus, double-toothe...</td>\n",
       "    </tr>\n",
       "    <tr>\n",
       "      <th>2585</th>\n",
       "      <td>Laparoscopy.  An incision was made in the umb...</td>\n",
       "      <td>Obstetrics / Gynecology</td>\n",
       "      <td>Laparoscopy - 2</td>\n",
       "      <td>NaN</td>\n",
       "      <td>obstetrics / gynecology, umbilicus, trocar, fa...</td>\n",
       "    </tr>\n",
       "    <tr>\n",
       "      <th>2588</th>\n",
       "      <td>Laparoscopy.  The cervix was grasped with a s...</td>\n",
       "      <td>Obstetrics / Gynecology</td>\n",
       "      <td>Laparoscopy - 1</td>\n",
       "      <td>NaN</td>\n",
       "      <td>obstetrics / gynecology, uterus, cervix, vagin...</td>\n",
       "    </tr>\n",
       "    <tr>\n",
       "      <th>2650</th>\n",
       "      <td>Cesarean Section.  An incision was made as no...</td>\n",
       "      <td>Obstetrics / Gynecology</td>\n",
       "      <td>Cesarean Section</td>\n",
       "      <td>NaN</td>\n",
       "      <td>obstetrics / gynecology, peritoneum, cesarean ...</td>\n",
       "    </tr>\n",
       "    <tr>\n",
       "      <th>3582</th>\n",
       "      <td>Common description of EGD</td>\n",
       "      <td>Gastroenterology</td>\n",
       "      <td>EGD Template - 4</td>\n",
       "      <td>NaN</td>\n",
       "      <td>gastroenterology, lateral supine position, sto...</td>\n",
       "    </tr>\n",
       "    <tr>\n",
       "      <th>3588</th>\n",
       "      <td>Common description of EGD.</td>\n",
       "      <td>Gastroenterology</td>\n",
       "      <td>EGD Template - 1</td>\n",
       "      <td>NaN</td>\n",
       "      <td>gastroenterology, duodenal mucosa, duodenal, e...</td>\n",
       "    </tr>\n",
       "    <tr>\n",
       "      <th>3621</th>\n",
       "      <td>Common description of colonoscopy</td>\n",
       "      <td>Gastroenterology</td>\n",
       "      <td>Colonoscopy Template - 2</td>\n",
       "      <td>NaN</td>\n",
       "      <td>gastroenterology, cecum, retroflexion, colon, ...</td>\n",
       "    </tr>\n",
       "    <tr>\n",
       "      <th>3626</th>\n",
       "      <td>Common description of colonoscopy</td>\n",
       "      <td>Gastroenterology</td>\n",
       "      <td>Colonoscopy Template - 3</td>\n",
       "      <td>NaN</td>\n",
       "      <td>gastroenterology, left lateral sims position, ...</td>\n",
       "    </tr>\n",
       "    <tr>\n",
       "      <th>3629</th>\n",
       "      <td>Common description of colonoscopy</td>\n",
       "      <td>Gastroenterology</td>\n",
       "      <td>Colonoscopy Template - 5</td>\n",
       "      <td>NaN</td>\n",
       "      <td>gastroenterology, cecum, colonoscope, digital ...</td>\n",
       "    </tr>\n",
       "    <tr>\n",
       "      <th>3632</th>\n",
       "      <td>Common description of colonoscopy</td>\n",
       "      <td>Gastroenterology</td>\n",
       "      <td>Colonoscopy Template - 1</td>\n",
       "      <td>NaN</td>\n",
       "      <td>gastroenterology, decubitus position, cecum, c...</td>\n",
       "    </tr>\n",
       "    <tr>\n",
       "      <th>3725</th>\n",
       "      <td>Parotidectomy procedure</td>\n",
       "      <td>ENT - Otolaryngology</td>\n",
       "      <td>Parotidectomy</td>\n",
       "      <td>NaN</td>\n",
       "      <td>ent - otolaryngology, parotidectomy, mixter cl...</td>\n",
       "    </tr>\n",
       "    <tr>\n",
       "      <th>3771</th>\n",
       "      <td>Collar Tubes technique</td>\n",
       "      <td>ENT - Otolaryngology</td>\n",
       "      <td>Collar Tubes</td>\n",
       "      <td>NaN</td>\n",
       "      <td>ent - otolaryngology, ototopical drops, tympan...</td>\n",
       "    </tr>\n",
       "    <tr>\n",
       "      <th>4649</th>\n",
       "      <td>Quick note on tachypnea.</td>\n",
       "      <td>Cardiovascular / Pulmonary</td>\n",
       "      <td>Tachypnea</td>\n",
       "      <td>NaN</td>\n",
       "      <td>cardiovascular / pulmonary, chest, cpr, breath...</td>\n",
       "    </tr>\n",
       "  </tbody>\n",
       "</table>\n",
       "</div>"
      ],
      "text/plain": [
       "                                            description  \\\n",
       "97                       Inguinal orchiopexy procedure.   \n",
       "116                   Inguinal hernia hydrocele repair.   \n",
       "205    Vaginal Hysterectomy.  A weighted speculum wa...   \n",
       "263    Total Abdominal Hysterectomy (TAH).  An incis...   \n",
       "459                             Parotidectomy procedure   \n",
       "622    Laparoscopy.  The cervix was grasped with a s...   \n",
       "628    Laparoscopy.  An incision was made in the umb...   \n",
       "680                      Inguinal orchiopexy procedure.   \n",
       "729                   Inguinal hernia hydrocele repair.   \n",
       "871                           Common description of EGD   \n",
       "879                          Common description of EGD.   \n",
       "983                   Common description of colonoscopy   \n",
       "984                   Common description of colonoscopy   \n",
       "985                   Common description of colonoscopy   \n",
       "987                   Common description of colonoscopy   \n",
       "1017                             Collar Tubes technique   \n",
       "1055   Cesarean Section.  An incision was made as no...   \n",
       "2016             Greater trochanteric bursal injection.   \n",
       "2455                           Quick note on tachypnea.   \n",
       "2498   Vaginal Hysterectomy.  A weighted speculum wa...   \n",
       "2529   Total Abdominal Hysterectomy (TAH).  An incis...   \n",
       "2585   Laparoscopy.  An incision was made in the umb...   \n",
       "2588   Laparoscopy.  The cervix was grasped with a s...   \n",
       "2650   Cesarean Section.  An incision was made as no...   \n",
       "3582                          Common description of EGD   \n",
       "3588                         Common description of EGD.   \n",
       "3621                  Common description of colonoscopy   \n",
       "3626                  Common description of colonoscopy   \n",
       "3629                  Common description of colonoscopy   \n",
       "3632                  Common description of colonoscopy   \n",
       "3725                            Parotidectomy procedure   \n",
       "3771                             Collar Tubes technique   \n",
       "4649                           Quick note on tachypnea.   \n",
       "\n",
       "                medical_specialty                     sample_name  \\\n",
       "97                        Urology            Inguinal orchiopexy    \n",
       "116                       Urology               Hydrocele Repair    \n",
       "205                       Surgery           Vaginal Hysterectomy    \n",
       "263                       Surgery   Total Abdominal Hysterectomy    \n",
       "459                       Surgery                  Parotidectomy    \n",
       "622                       Surgery                Laparoscopy - 1    \n",
       "628                       Surgery                Laparoscopy - 2    \n",
       "680                       Surgery            Inguinal orchiopexy    \n",
       "729                       Surgery               Hydrocele Repair    \n",
       "871                       Surgery               EGD Template - 4    \n",
       "879                       Surgery               EGD Template - 1    \n",
       "983                       Surgery       Colonoscopy Template - 1    \n",
       "984                       Surgery       Colonoscopy Template - 3    \n",
       "985                       Surgery       Colonoscopy Template - 5    \n",
       "987                       Surgery       Colonoscopy Template - 2    \n",
       "1017                      Surgery                   Collar Tubes    \n",
       "1055                      Surgery               Cesarean Section    \n",
       "2016              Pain Management               Bursal Injection    \n",
       "2455                 Office Notes                      Tachypnea    \n",
       "2498      Obstetrics / Gynecology           Vaginal Hysterectomy    \n",
       "2529      Obstetrics / Gynecology   Total Abdominal Hysterectomy    \n",
       "2585      Obstetrics / Gynecology                Laparoscopy - 2    \n",
       "2588      Obstetrics / Gynecology                Laparoscopy - 1    \n",
       "2650      Obstetrics / Gynecology               Cesarean Section    \n",
       "3582             Gastroenterology               EGD Template - 4    \n",
       "3588             Gastroenterology               EGD Template - 1    \n",
       "3621             Gastroenterology       Colonoscopy Template - 2    \n",
       "3626             Gastroenterology       Colonoscopy Template - 3    \n",
       "3629             Gastroenterology       Colonoscopy Template - 5    \n",
       "3632             Gastroenterology       Colonoscopy Template - 1    \n",
       "3725         ENT - Otolaryngology                  Parotidectomy    \n",
       "3771         ENT - Otolaryngology                   Collar Tubes    \n",
       "4649   Cardiovascular / Pulmonary                      Tachypnea    \n",
       "\n",
       "     transcription                                           keywords  \n",
       "97             NaN  urology, inguinal orchiopexy, keith needles, a...  \n",
       "116            NaN  urology, inguinal hernia, external oblique, he...  \n",
       "205            NaN  surgery, omentum, massachusetts, vaginal hyste...  \n",
       "263            NaN  surgery, fundus, double-toothed tenaculum, mus...  \n",
       "459            NaN  surgery, parotidectomy, mixter clamp, auditory...  \n",
       "622            NaN  surgery, uterus, cervix, vaginal, single tooth...  \n",
       "628            NaN  surgery, umbilicus, trocar, falope, laparoscop...  \n",
       "680            NaN  surgery, inguinal orchiopexy, keith needles, a...  \n",
       "729            NaN  surgery, inguinal hernia, external oblique, he...  \n",
       "871            NaN  surgery, lateral supine position, stomach, duo...  \n",
       "879            NaN  surgery, duodenal mucosa, duodenal, esophageal...  \n",
       "983            NaN  surgery, decubitus position, cecum, colonic mu...  \n",
       "984            NaN  surgery, left lateral sims position, cecum, ma...  \n",
       "985            NaN  surgery, cecum, colonoscope, digital rectal ex...  \n",
       "987            NaN  surgery, cecum, retroflexion, colon, tumor, po...  \n",
       "1017           NaN  surgery, ototopical drops, tympanic, membrane,...  \n",
       "1055           NaN  surgery, peritoneum, cesarean section, abdomin...  \n",
       "2016           NaN  pain management, greater trochanteric, depo-me...  \n",
       "2455           NaN  office notes, chest, cpr, breath sounds, tachy...  \n",
       "2498           NaN  obstetrics / gynecology, omentum, massachusett...  \n",
       "2529           NaN  obstetrics / gynecology, fundus, double-toothe...  \n",
       "2585           NaN  obstetrics / gynecology, umbilicus, trocar, fa...  \n",
       "2588           NaN  obstetrics / gynecology, uterus, cervix, vagin...  \n",
       "2650           NaN  obstetrics / gynecology, peritoneum, cesarean ...  \n",
       "3582           NaN  gastroenterology, lateral supine position, sto...  \n",
       "3588           NaN  gastroenterology, duodenal mucosa, duodenal, e...  \n",
       "3621           NaN  gastroenterology, cecum, retroflexion, colon, ...  \n",
       "3626           NaN  gastroenterology, left lateral sims position, ...  \n",
       "3629           NaN  gastroenterology, cecum, colonoscope, digital ...  \n",
       "3632           NaN  gastroenterology, decubitus position, cecum, c...  \n",
       "3725           NaN  ent - otolaryngology, parotidectomy, mixter cl...  \n",
       "3771           NaN  ent - otolaryngology, ototopical drops, tympan...  \n",
       "4649           NaN  cardiovascular / pulmonary, chest, cpr, breath...  "
      ]
     },
     "execution_count": 13,
     "metadata": {},
     "output_type": "execute_result"
    }
   ],
   "source": [
    "#checking the rows that have null values in transcription\n",
    "df[df.transcription.isnull()]"
   ]
  },
  {
   "cell_type": "markdown",
   "metadata": {},
   "source": [
    "**I decided to removed transcription missing values, but I'm going to keep keyword**"
   ]
  },
  {
   "cell_type": "markdown",
   "metadata": {},
   "source": [
    "- I'm going to fill missing valiues in keywords with the word none\n",
    "- and then I'm going to remove missing values"
   ]
  },
  {
   "cell_type": "code",
   "execution_count": 14,
   "metadata": {},
   "outputs": [],
   "source": [
    "#fill only keywords missing"
   ]
  },
  {
   "cell_type": "code",
   "execution_count": 15,
   "metadata": {},
   "outputs": [],
   "source": [
    "df.keywords.fillna('none', inplace = True)"
   ]
  },
  {
   "cell_type": "code",
   "execution_count": 16,
   "metadata": {
    "scrolled": false
   },
   "outputs": [
    {
     "name": "stdout",
     "output_type": "stream",
     "text": [
      "Your selected dataframe has 5 columns.\n",
      "There are 1 columns that have missing values.\n",
      "  \n",
      "** There are 0 duplicate rows that represents 0.0% of total Values**\n"
     ]
    },
    {
     "data": {
      "text/html": [
       "<div>\n",
       "<style scoped>\n",
       "    .dataframe tbody tr th:only-of-type {\n",
       "        vertical-align: middle;\n",
       "    }\n",
       "\n",
       "    .dataframe tbody tr th {\n",
       "        vertical-align: top;\n",
       "    }\n",
       "\n",
       "    .dataframe thead th {\n",
       "        text-align: right;\n",
       "    }\n",
       "</style>\n",
       "<table border=\"1\" class=\"dataframe\">\n",
       "  <thead>\n",
       "    <tr style=\"text-align: right;\">\n",
       "      <th></th>\n",
       "      <th>Missing Values</th>\n",
       "      <th>% of Total Values</th>\n",
       "    </tr>\n",
       "  </thead>\n",
       "  <tbody>\n",
       "    <tr>\n",
       "      <th>transcription</th>\n",
       "      <td>33</td>\n",
       "      <td>0.7</td>\n",
       "    </tr>\n",
       "  </tbody>\n",
       "</table>\n",
       "</div>"
      ],
      "text/plain": [
       "               Missing Values  % of Total Values\n",
       "transcription              33                0.7"
      ]
     },
     "execution_count": 16,
     "metadata": {},
     "output_type": "execute_result"
    }
   ],
   "source": [
    "#checking again missing values\n",
    "pre.miss_dup_values(df)"
   ]
  },
  {
   "cell_type": "code",
   "execution_count": 17,
   "metadata": {},
   "outputs": [],
   "source": [
    "#removing missing values\n",
    "df = df.dropna(axis=0).reset_index(drop=True)"
   ]
  },
  {
   "cell_type": "code",
   "execution_count": 18,
   "metadata": {},
   "outputs": [
    {
     "name": "stdout",
     "output_type": "stream",
     "text": [
      "Your selected dataframe has 5 columns.\n",
      "There are 0 columns that have missing values.\n",
      "  \n",
      "** There are 0 duplicate rows that represents 0.0% of total Values**\n"
     ]
    },
    {
     "data": {
      "text/html": [
       "<div>\n",
       "<style scoped>\n",
       "    .dataframe tbody tr th:only-of-type {\n",
       "        vertical-align: middle;\n",
       "    }\n",
       "\n",
       "    .dataframe tbody tr th {\n",
       "        vertical-align: top;\n",
       "    }\n",
       "\n",
       "    .dataframe thead th {\n",
       "        text-align: right;\n",
       "    }\n",
       "</style>\n",
       "<table border=\"1\" class=\"dataframe\">\n",
       "  <thead>\n",
       "    <tr style=\"text-align: right;\">\n",
       "      <th></th>\n",
       "      <th>Missing Values</th>\n",
       "      <th>% of Total Values</th>\n",
       "    </tr>\n",
       "  </thead>\n",
       "  <tbody>\n",
       "  </tbody>\n",
       "</table>\n",
       "</div>"
      ],
      "text/plain": [
       "Empty DataFrame\n",
       "Columns: [Missing Values, % of Total Values]\n",
       "Index: []"
      ]
     },
     "execution_count": 18,
     "metadata": {},
     "output_type": "execute_result"
    }
   ],
   "source": [
    "#checking again missing values\n",
    "pre.miss_dup_values(df)"
   ]
  },
  {
   "cell_type": "code",
   "execution_count": 19,
   "metadata": {},
   "outputs": [],
   "source": [
    "# we don't have missing values"
   ]
  },
  {
   "cell_type": "code",
   "execution_count": 20,
   "metadata": {},
   "outputs": [
    {
     "data": {
      "text/plain": [
       "(4966, 5)"
      ]
     },
     "execution_count": 20,
     "metadata": {},
     "output_type": "execute_result"
    }
   ],
   "source": [
    "df.shape"
   ]
  },
  {
   "cell_type": "markdown",
   "metadata": {},
   "source": [
    "Now lets see the different specialties"
   ]
  },
  {
   "cell_type": "code",
   "execution_count": 21,
   "metadata": {},
   "outputs": [
    {
     "data": {
      "text/plain": [
       " Surgery                          1088\n",
       " Consult - History and Phy.        516\n",
       " Cardiovascular / Pulmonary        371\n",
       " Orthopedic                        355\n",
       " Radiology                         273\n",
       " General Medicine                  259\n",
       " Gastroenterology                  224\n",
       " Neurology                         223\n",
       " SOAP / Chart / Progress Notes     166\n",
       " Urology                           156\n",
       " Obstetrics / Gynecology           155\n",
       " Discharge Summary                 108\n",
       " ENT - Otolaryngology               96\n",
       " Neurosurgery                       94\n",
       " Hematology - Oncology              90\n",
       " Ophthalmology                      83\n",
       " Nephrology                         81\n",
       " Emergency Room Reports             75\n",
       " Pediatrics - Neonatal              70\n",
       " Pain Management                    61\n",
       " Psychiatry / Psychology            53\n",
       " Office Notes                       50\n",
       " Podiatry                           47\n",
       " Dermatology                        29\n",
       " Cosmetic / Plastic Surgery         27\n",
       " Dentistry                          27\n",
       " Letters                            23\n",
       " Physical Medicine - Rehab          21\n",
       " Sleep Medicine                     20\n",
       " Endocrinology                      19\n",
       " Bariatrics                         18\n",
       " IME-QME-Work Comp etc.             16\n",
       " Chiropractic                       14\n",
       " Rheumatology                       10\n",
       " Diets and Nutritions               10\n",
       " Speech - Language                   9\n",
       " Autopsy                             8\n",
       " Lab Medicine - Pathology            8\n",
       " Allergy / Immunology                7\n",
       " Hospice - Palliative Care           6\n",
       "Name: medical_specialty, dtype: int64"
      ]
     },
     "execution_count": 21,
     "metadata": {},
     "output_type": "execute_result"
    }
   ],
   "source": [
    "df.medical_specialty.value_counts()"
   ]
  },
  {
   "cell_type": "code",
   "execution_count": 22,
   "metadata": {},
   "outputs": [],
   "source": [
    "def top_n_target(df,target,  n):\n",
    "    '''\n",
    "    takes in a df and target and give you the top n of you target\n",
    "    return a df with only the top n \n",
    "    '''\n",
    "    \n",
    "    #get the value counts of the target\n",
    "    targ =pd.DataFrame(df[[target]].value_counts())\\\n",
    "    .reset_index().rename(columns= {0:'cnt', 'index':target})\n",
    "    #get the top 5\n",
    "    topl= list(targ.loc[0:(n-1)].medical_specialty.values)\n",
    "    #get new df with only the top n values of target\n",
    "    df= df[df.medical_specialty.isin(topl)].reset_index(drop=True)\n",
    "    return  df"
   ]
  },
  {
   "cell_type": "code",
   "execution_count": 23,
   "metadata": {},
   "outputs": [],
   "source": [
    "new_df =top_n_target(df[['medical_specialty', 'transcription']], 'medical_specialty', 5)"
   ]
  },
  {
   "cell_type": "markdown",
   "metadata": {},
   "source": [
    "##  clean, tokenized, stemming, lemmatize"
   ]
  },
  {
   "cell_type": "code",
   "execution_count": 24,
   "metadata": {},
   "outputs": [],
   "source": [
    "\n",
    "#use my prepare function\n",
    "clean_df =pre.prepare_data(new_df, 'transcription')"
   ]
  },
  {
   "cell_type": "code",
   "execution_count": 25,
   "metadata": {},
   "outputs": [
    {
     "data": {
      "text/html": [
       "<div>\n",
       "<style scoped>\n",
       "    .dataframe tbody tr th:only-of-type {\n",
       "        vertical-align: middle;\n",
       "    }\n",
       "\n",
       "    .dataframe tbody tr th {\n",
       "        vertical-align: top;\n",
       "    }\n",
       "\n",
       "    .dataframe thead th {\n",
       "        text-align: right;\n",
       "    }\n",
       "</style>\n",
       "<table border=\"1\" class=\"dataframe\">\n",
       "  <thead>\n",
       "    <tr style=\"text-align: right;\">\n",
       "      <th></th>\n",
       "      <th>medical_specialty</th>\n",
       "      <th>transcription</th>\n",
       "      <th>clean</th>\n",
       "      <th>stemmed</th>\n",
       "      <th>lemmatized</th>\n",
       "    </tr>\n",
       "  </thead>\n",
       "  <tbody>\n",
       "    <tr>\n",
       "      <th>0</th>\n",
       "      <td>Cardiovascular / Pulmonary</td>\n",
       "      <td>2-D M-MODE: , ,1.  Left atrial enlargement wit...</td>\n",
       "      <td>2d mmode 1 left atrial enlargement left atrial...</td>\n",
       "      <td>2d mmode 1 left atrial enlarg left atrial diam...</td>\n",
       "      <td>2d mmode 1 left atrial enlargement left atrial...</td>\n",
       "    </tr>\n",
       "    <tr>\n",
       "      <th>1</th>\n",
       "      <td>Cardiovascular / Pulmonary</td>\n",
       "      <td>1.  The left ventricular cavity size and wall ...</td>\n",
       "      <td>1 left ventricular cavity size wall thickness ...</td>\n",
       "      <td>1 left ventricular caviti size wall thick appe...</td>\n",
       "      <td>1 left ventricular cavity size wall thickness ...</td>\n",
       "    </tr>\n",
       "    <tr>\n",
       "      <th>2</th>\n",
       "      <td>Cardiovascular / Pulmonary</td>\n",
       "      <td>2-D ECHOCARDIOGRAM,Multiple views of the heart...</td>\n",
       "      <td>2d echocardiogrammultiple views heart great ve...</td>\n",
       "      <td>2d echocardiogrammultipl view heart great vess...</td>\n",
       "      <td>2d echocardiogrammultiple view heart great ves...</td>\n",
       "    </tr>\n",
       "    <tr>\n",
       "      <th>3</th>\n",
       "      <td>Cardiovascular / Pulmonary</td>\n",
       "      <td>DESCRIPTION:,1.  Normal cardiac chambers size....</td>\n",
       "      <td>description1 normal cardiac chambers size2 nor...</td>\n",
       "      <td>description1 normal cardiac chamber size2 norm...</td>\n",
       "      <td>description1 normal cardiac chamber size2 norm...</td>\n",
       "    </tr>\n",
       "    <tr>\n",
       "      <th>4</th>\n",
       "      <td>Cardiovascular / Pulmonary</td>\n",
       "      <td>2-D STUDY,1. Mild aortic stenosis, widely calc...</td>\n",
       "      <td>2d study1 mild aortic stenosis widely calcifie...</td>\n",
       "      <td>2d study1 mild aortic stenosi wide calcifi min...</td>\n",
       "      <td>2d study1 mild aortic stenosis widely calcifie...</td>\n",
       "    </tr>\n",
       "  </tbody>\n",
       "</table>\n",
       "</div>"
      ],
      "text/plain": [
       "             medical_specialty  \\\n",
       "0   Cardiovascular / Pulmonary   \n",
       "1   Cardiovascular / Pulmonary   \n",
       "2   Cardiovascular / Pulmonary   \n",
       "3   Cardiovascular / Pulmonary   \n",
       "4   Cardiovascular / Pulmonary   \n",
       "\n",
       "                                       transcription  \\\n",
       "0  2-D M-MODE: , ,1.  Left atrial enlargement wit...   \n",
       "1  1.  The left ventricular cavity size and wall ...   \n",
       "2  2-D ECHOCARDIOGRAM,Multiple views of the heart...   \n",
       "3  DESCRIPTION:,1.  Normal cardiac chambers size....   \n",
       "4  2-D STUDY,1. Mild aortic stenosis, widely calc...   \n",
       "\n",
       "                                               clean  \\\n",
       "0  2d mmode 1 left atrial enlargement left atrial...   \n",
       "1  1 left ventricular cavity size wall thickness ...   \n",
       "2  2d echocardiogrammultiple views heart great ve...   \n",
       "3  description1 normal cardiac chambers size2 nor...   \n",
       "4  2d study1 mild aortic stenosis widely calcifie...   \n",
       "\n",
       "                                             stemmed  \\\n",
       "0  2d mmode 1 left atrial enlarg left atrial diam...   \n",
       "1  1 left ventricular caviti size wall thick appe...   \n",
       "2  2d echocardiogrammultipl view heart great vess...   \n",
       "3  description1 normal cardiac chamber size2 norm...   \n",
       "4  2d study1 mild aortic stenosi wide calcifi min...   \n",
       "\n",
       "                                          lemmatized  \n",
       "0  2d mmode 1 left atrial enlargement left atrial...  \n",
       "1  1 left ventricular cavity size wall thickness ...  \n",
       "2  2d echocardiogrammultiple view heart great ves...  \n",
       "3  description1 normal cardiac chamber size2 norm...  \n",
       "4  2d study1 mild aortic stenosis widely calcifie...  "
      ]
     },
     "execution_count": 25,
     "metadata": {},
     "output_type": "execute_result"
    }
   ],
   "source": [
    "clean_df.head()"
   ]
  },
  {
   "cell_type": "code",
   "execution_count": 26,
   "metadata": {
    "scrolled": true
   },
   "outputs": [
    {
     "data": {
      "text/plain": [
       "'2-D M-MODE: , ,1.  Left atrial enlargement with left atrial diameter of 4.7 cm.,2.  Normal size right and left ventricle.,3.  Normal LV systolic function with left ventricular ejection fraction of 51%.,4.  Normal LV diastolic function.,5.  No pericardial effusion.,6.  Normal morphology of aortic valve, mitral valve, tricuspid valve, and pulmonary valve.,7.  PA systolic pressure is 36 mmHg.,DOPPLER: , ,1.  Mild mitral and tricuspid regurgitation.,2.  Trace aortic and pulmonary regurgitation.'"
      ]
     },
     "execution_count": 26,
     "metadata": {},
     "output_type": "execute_result"
    }
   ],
   "source": [
    "clean_df.transcription[0]"
   ]
  },
  {
   "cell_type": "code",
   "execution_count": 27,
   "metadata": {},
   "outputs": [
    {
     "data": {
      "text/plain": [
       "'2d mmode 1 left atrial enlargement left atrial diameter 47 cm2 normal size right left ventricle3 normal lv systolic function left ventricular ejection fraction 514 normal lv diastolic function5 pericardial effusion6 normal morphology aortic valve mitral valve tricuspid valve pulmonary valve7 pa systolic pressure 36 mmhgdoppler 1 mild mitral tricuspid regurgitation2 trace aortic pulmonary regurgitation'"
      ]
     },
     "execution_count": 27,
     "metadata": {},
     "output_type": "execute_result"
    }
   ],
   "source": [
    "clean_df.clean[0]"
   ]
  },
  {
   "cell_type": "code",
   "execution_count": 28,
   "metadata": {},
   "outputs": [
    {
     "data": {
      "text/plain": [
       "'2d mmode 1 left atrial enlargement left atrial diameter 47 cm2 normal size right left ventricle3 normal lv systolic function left ventricular ejection fraction 514 normal lv diastolic function5 pericardial effusion6 normal morphology aortic valve mitral valve tricuspid valve pulmonary valve7 pa systolic pressure 36 mmhgdoppler 1 mild mitral tricuspid regurgitation2 trace aortic pulmonary regurgitation'"
      ]
     },
     "execution_count": 28,
     "metadata": {},
     "output_type": "execute_result"
    }
   ],
   "source": [
    "clean_df.lemmatized[0]"
   ]
  },
  {
   "cell_type": "markdown",
   "metadata": {},
   "source": [
    "## checking main function"
   ]
  },
  {
   "cell_type": "code",
   "execution_count": 29,
   "metadata": {},
   "outputs": [],
   "source": [
    "# read csv file\n",
    "df = pd.read_csv('mtsamples.csv',  index_col=[0])"
   ]
  },
  {
   "cell_type": "code",
   "execution_count": 30,
   "metadata": {},
   "outputs": [],
   "source": [
    "\n",
    "#prepare data\n",
    "clean_df = pre.prepare_mf(df )"
   ]
  },
  {
   "cell_type": "code",
   "execution_count": 31,
   "metadata": {},
   "outputs": [
    {
     "data": {
      "text/html": [
       "<div>\n",
       "<style scoped>\n",
       "    .dataframe tbody tr th:only-of-type {\n",
       "        vertical-align: middle;\n",
       "    }\n",
       "\n",
       "    .dataframe tbody tr th {\n",
       "        vertical-align: top;\n",
       "    }\n",
       "\n",
       "    .dataframe thead th {\n",
       "        text-align: right;\n",
       "    }\n",
       "</style>\n",
       "<table border=\"1\" class=\"dataframe\">\n",
       "  <thead>\n",
       "    <tr style=\"text-align: right;\">\n",
       "      <th></th>\n",
       "      <th>medical_specialty</th>\n",
       "      <th>transcription</th>\n",
       "      <th>clean</th>\n",
       "      <th>stemmed</th>\n",
       "      <th>lemmatized</th>\n",
       "    </tr>\n",
       "  </thead>\n",
       "  <tbody>\n",
       "    <tr>\n",
       "      <th>0</th>\n",
       "      <td>Cardiovascular / Pulmonary</td>\n",
       "      <td>2-D M-MODE: , ,1.  Left atrial enlargement wit...</td>\n",
       "      <td>2d mmode 1 left atrial enlargement left atrial...</td>\n",
       "      <td>2d mmode 1 left atrial enlarg left atrial diam...</td>\n",
       "      <td>2d mmode 1 left atrial enlargement left atrial...</td>\n",
       "    </tr>\n",
       "    <tr>\n",
       "      <th>1</th>\n",
       "      <td>Cardiovascular / Pulmonary</td>\n",
       "      <td>1.  The left ventricular cavity size and wall ...</td>\n",
       "      <td>1 left ventricular cavity size wall thickness ...</td>\n",
       "      <td>1 left ventricular caviti size wall thick appe...</td>\n",
       "      <td>1 left ventricular cavity size wall thickness ...</td>\n",
       "    </tr>\n",
       "    <tr>\n",
       "      <th>2</th>\n",
       "      <td>Cardiovascular / Pulmonary</td>\n",
       "      <td>2-D ECHOCARDIOGRAM,Multiple views of the heart...</td>\n",
       "      <td>2d echocardiogrammultiple views heart great ve...</td>\n",
       "      <td>2d echocardiogrammultipl view heart great vess...</td>\n",
       "      <td>2d echocardiogrammultiple view heart great ves...</td>\n",
       "    </tr>\n",
       "    <tr>\n",
       "      <th>3</th>\n",
       "      <td>Cardiovascular / Pulmonary</td>\n",
       "      <td>DESCRIPTION:,1.  Normal cardiac chambers size....</td>\n",
       "      <td>description1 normal cardiac chambers size2 nor...</td>\n",
       "      <td>description1 normal cardiac chamber size2 norm...</td>\n",
       "      <td>description1 normal cardiac chamber size2 norm...</td>\n",
       "    </tr>\n",
       "    <tr>\n",
       "      <th>4</th>\n",
       "      <td>Cardiovascular / Pulmonary</td>\n",
       "      <td>2-D STUDY,1. Mild aortic stenosis, widely calc...</td>\n",
       "      <td>2d study1 mild aortic stenosis widely calcifie...</td>\n",
       "      <td>2d study1 mild aortic stenosi wide calcifi min...</td>\n",
       "      <td>2d study1 mild aortic stenosis widely calcifie...</td>\n",
       "    </tr>\n",
       "  </tbody>\n",
       "</table>\n",
       "</div>"
      ],
      "text/plain": [
       "             medical_specialty  \\\n",
       "0   Cardiovascular / Pulmonary   \n",
       "1   Cardiovascular / Pulmonary   \n",
       "2   Cardiovascular / Pulmonary   \n",
       "3   Cardiovascular / Pulmonary   \n",
       "4   Cardiovascular / Pulmonary   \n",
       "\n",
       "                                       transcription  \\\n",
       "0  2-D M-MODE: , ,1.  Left atrial enlargement wit...   \n",
       "1  1.  The left ventricular cavity size and wall ...   \n",
       "2  2-D ECHOCARDIOGRAM,Multiple views of the heart...   \n",
       "3  DESCRIPTION:,1.  Normal cardiac chambers size....   \n",
       "4  2-D STUDY,1. Mild aortic stenosis, widely calc...   \n",
       "\n",
       "                                               clean  \\\n",
       "0  2d mmode 1 left atrial enlargement left atrial...   \n",
       "1  1 left ventricular cavity size wall thickness ...   \n",
       "2  2d echocardiogrammultiple views heart great ve...   \n",
       "3  description1 normal cardiac chambers size2 nor...   \n",
       "4  2d study1 mild aortic stenosis widely calcifie...   \n",
       "\n",
       "                                             stemmed  \\\n",
       "0  2d mmode 1 left atrial enlarg left atrial diam...   \n",
       "1  1 left ventricular caviti size wall thick appe...   \n",
       "2  2d echocardiogrammultipl view heart great vess...   \n",
       "3  description1 normal cardiac chamber size2 norm...   \n",
       "4  2d study1 mild aortic stenosi wide calcifi min...   \n",
       "\n",
       "                                          lemmatized  \n",
       "0  2d mmode 1 left atrial enlargement left atrial...  \n",
       "1  1 left ventricular cavity size wall thickness ...  \n",
       "2  2d echocardiogrammultiple view heart great ves...  \n",
       "3  description1 normal cardiac chamber size2 norm...  \n",
       "4  2d study1 mild aortic stenosis widely calcifie...  "
      ]
     },
     "execution_count": 31,
     "metadata": {},
     "output_type": "execute_result"
    }
   ],
   "source": [
    "clean_df.head()"
   ]
  },
  {
   "cell_type": "code",
   "execution_count": 32,
   "metadata": {
    "scrolled": true
   },
   "outputs": [
    {
     "data": {
      "text/plain": [
       " Surgery                       1088\n",
       " Consult - History and Phy.     516\n",
       " Cardiovascular / Pulmonary     371\n",
       " Orthopedic                     355\n",
       " Radiology                      273\n",
       "Name: medical_specialty, dtype: int64"
      ]
     },
     "execution_count": 32,
     "metadata": {},
     "output_type": "execute_result"
    }
   ],
   "source": [
    "clean_df.medical_specialty.value_counts()"
   ]
  },
  {
   "cell_type": "code",
   "execution_count": 33,
   "metadata": {},
   "outputs": [],
   "source": [
    "import matplotlib as mpl\n",
    "\n",
    "plt.rc('figure', figsize=(13, 10))\n",
    "plt.rc('font', size=16)\n",
    "plt.style.use('seaborn-darkgrid')"
   ]
  },
  {
   "cell_type": "code",
   "execution_count": 35,
   "metadata": {},
   "outputs": [
    {
     "name": "stdout",
     "output_type": "stream",
     "text": [
      "complete df -> (2603, 5)\n",
      "train -> (1457, 5)\n",
      "validate -> (625, 5)\n",
      "test -> (521, 5)\n"
     ]
    }
   ],
   "source": [
    "#split train, validate and test\n",
    "train, validate, test = pre.split_data(clean_df, 'medical_specialty')"
   ]
  },
  {
   "cell_type": "code",
   "execution_count": null,
   "metadata": {},
   "outputs": [],
   "source": [
    "# Explore"
   ]
  },
  {
   "cell_type": "code",
   "execution_count": 36,
   "metadata": {},
   "outputs": [
    {
     "data": {
      "image/png": "[encoded data removed]",
      "text/plain": [
       "<Figure size 936x720 with 1 Axes>"
      ]
     },
     "metadata": {},
     "output_type": "display_data"
    }
   ],
   "source": [
    "train.medical_specialty.value_counts().plot.bar()\n",
    "plt.title('Distrubution of specialties')\n",
    "plt.ylabel('number of transcriptions')\n",
    "plt.show()"
   ]
  },
  {
   "cell_type": "markdown",
   "metadata": {},
   "source": [
    "## - What are the most common words in READMEs?"
   ]
  },
  {
   "cell_type": "code",
   "execution_count": 37,
   "metadata": {},
   "outputs": [],
   "source": [
    "#get the list of languages\n",
    "list_med = list(train.medical_specialty.value_counts().index)"
   ]
  },
  {
   "cell_type": "code",
   "execution_count": 38,
   "metadata": {},
   "outputs": [
    {
     "data": {
      "text/plain": [
       "[' Surgery',\n",
       " ' Consult - History and Phy.',\n",
       " ' Cardiovascular / Pulmonary',\n",
       " ' Orthopedic',\n",
       " ' Radiology']"
      ]
     },
     "execution_count": 38,
     "metadata": {},
     "output_type": "execute_result"
    }
   ],
   "source": [
    "list_med"
   ]
  },
  {
   "cell_type": "code",
   "execution_count": 41,
   "metadata": {},
   "outputs": [],
   "source": [
    "#joint all the text of each language\n",
    "join_text ={}\n",
    "for med in list_med :\n",
    "    join_text[med] = pre.basic_clean(' '.join(train[train.medical_specialty == med].lemmatized))\n",
    "\n",
    "#add allwords\n",
    "join_text['all_words']= pre.basic_clean(' '.join(train.lemmatized))"
   ]
  },
  {
   "cell_type": "markdown",
   "metadata": {},
   "source": [
    "## Represent text as word frequencies.\n"
   ]
  },
  {
   "cell_type": "code",
   "execution_count": 42,
   "metadata": {},
   "outputs": [],
   "source": [
    "#create a word_count df \n",
    "word_counts= pd.DataFrame()\n",
    "for med in join_text:\n",
    "    word_counts[med] = pd.Series(join_text[med].split()).value_counts()\n",
    "word_counts= word_counts.fillna(0).astype(int)"
   ]
  },
  {
   "cell_type": "code",
   "execution_count": 43,
   "metadata": {},
   "outputs": [
    {
     "data": {
      "text/html": [
       "<div>\n",
       "<style scoped>\n",
       "    .dataframe tbody tr th:only-of-type {\n",
       "        vertical-align: middle;\n",
       "    }\n",
       "\n",
       "    .dataframe tbody tr th {\n",
       "        vertical-align: top;\n",
       "    }\n",
       "\n",
       "    .dataframe thead th {\n",
       "        text-align: right;\n",
       "    }\n",
       "</style>\n",
       "<table border=\"1\" class=\"dataframe\">\n",
       "  <thead>\n",
       "    <tr style=\"text-align: right;\">\n",
       "      <th></th>\n",
       "      <th>Surgery</th>\n",
       "      <th>Consult - History and Phy.</th>\n",
       "      <th>Cardiovascular / Pulmonary</th>\n",
       "      <th>Orthopedic</th>\n",
       "      <th>Radiology</th>\n",
       "      <th>all_words</th>\n",
       "    </tr>\n",
       "  </thead>\n",
       "  <tbody>\n",
       "    <tr>\n",
       "      <th>patient</th>\n",
       "      <td>2942</td>\n",
       "      <td>1920</td>\n",
       "      <td>1015</td>\n",
       "      <td>1119</td>\n",
       "      <td>197</td>\n",
       "      <td>7193</td>\n",
       "    </tr>\n",
       "    <tr>\n",
       "      <th>right</th>\n",
       "      <td>1733</td>\n",
       "      <td>467</td>\n",
       "      <td>714</td>\n",
       "      <td>667</td>\n",
       "      <td>303</td>\n",
       "      <td>3884</td>\n",
       "    </tr>\n",
       "    <tr>\n",
       "      <th>left</th>\n",
       "      <td>1684</td>\n",
       "      <td>400</td>\n",
       "      <td>795</td>\n",
       "      <td>560</td>\n",
       "      <td>343</td>\n",
       "      <td>3782</td>\n",
       "    </tr>\n",
       "    <tr>\n",
       "      <th>placed</th>\n",
       "      <td>1653</td>\n",
       "      <td>42</td>\n",
       "      <td>211</td>\n",
       "      <td>594</td>\n",
       "      <td>64</td>\n",
       "      <td>2564</td>\n",
       "    </tr>\n",
       "    <tr>\n",
       "      <th>history</th>\n",
       "      <td>217</td>\n",
       "      <td>1384</td>\n",
       "      <td>348</td>\n",
       "      <td>141</td>\n",
       "      <td>48</td>\n",
       "      <td>2138</td>\n",
       "    </tr>\n",
       "  </tbody>\n",
       "</table>\n",
       "</div>"
      ],
      "text/plain": [
       "          Surgery   Consult - History and Phy.   Cardiovascular / Pulmonary  \\\n",
       "patient      2942                         1920                         1015   \n",
       "right        1733                          467                          714   \n",
       "left         1684                          400                          795   \n",
       "placed       1653                           42                          211   \n",
       "history       217                         1384                          348   \n",
       "\n",
       "          Orthopedic   Radiology  all_words  \n",
       "patient         1119         197       7193  \n",
       "right            667         303       3884  \n",
       "left             560         343       3782  \n",
       "placed           594          64       2564  \n",
       "history          141          48       2138  "
      ]
     },
     "execution_count": 43,
     "metadata": {},
     "output_type": "execute_result"
    }
   ],
   "source": [
    "word_counts.sort_values('all_words', ascending=False).head()"
   ]
  },
  {
   "cell_type": "code",
   "execution_count": 44,
   "metadata": {},
   "outputs": [
    {
     "data": {
      "text/plain": [
       "(14112, 6)"
      ]
     },
     "execution_count": 44,
     "metadata": {},
     "output_type": "execute_result"
    }
   ],
   "source": [
    "word_counts.shape"
   ]
  },
  {
   "cell_type": "code",
   "execution_count": null,
   "metadata": {},
   "outputs": [],
   "source": []
  }
 ],
 "metadata": {
  "kernelspec": {
   "display_name": "Python 3",
   "language": "python",
   "name": "python3"
  },
  "language_info": {
   "codemirror_mode": {
    "name": "ipython",
    "version": 3
   },
   "file_extension": ".py",
   "mimetype": "text/x-python",
   "name": "python",
   "nbconvert_exporter": "python",
   "pygments_lexer": "ipython3",
   "version": "3.8.5"
  }
 },
 "nbformat": 4,
 "nbformat_minor": 4
}
